{
 "cells": [
  {
   "cell_type": "code",
   "execution_count": 1,
   "id": "506ff5eb",
   "metadata": {},
   "outputs": [],
   "source": [
    "import matplotlib.pyplot as plt\n",
    "import pandas as pd\n",
    "from sklearn.model_selection import train_test_split\n",
    "from sklearn.linear_model import LinearRegression"
   ]
  },
  {
   "cell_type": "code",
   "execution_count": 7,
   "id": "0b151f66",
   "metadata": {},
   "outputs": [
    {
     "data": {
      "text/plain": [
       "[120, 240, 80, 380, 340, 280, 60, 200, 400, 100, 260, 160, 220, 300, 140]"
      ]
     },
     "execution_count": 7,
     "metadata": {},
     "output_type": "execute_result"
    }
   ],
   "source": [
    "x = [20, 40, 60, 80, 100, 120, 140, 160, 180, 200,\n",
    "     220, 240, 260, 280, 300, 320, 340, 360, 380, 400]\n",
    "y = [10, 25, 15, 40, 32, 50, 39, 65, 55, 75,\n",
    "     60, 85, 78, 95, 82, 105, 98, 115, 100, 125]\n",
    "\n",
    "x_train, x_test, y_train, y_test = train_test_split(x, y, test_size=0.25, random_state=42)\n",
    "x_train"
   ]
  },
  {
   "cell_type": "code",
   "execution_count": 8,
   "id": "1cfd2739",
   "metadata": {},
   "outputs": [
    {
     "data": {
      "text/plain": [
       "[50, 85, 40, 100, 98, 95, 15, 75, 125, 32, 78, 65, 60, 82, 39]"
      ]
     },
     "execution_count": 8,
     "metadata": {},
     "output_type": "execute_result"
    }
   ],
   "source": [
    "y_train"
   ]
  },
  {
   "cell_type": "code",
   "execution_count": 9,
   "id": "8c33abfd",
   "metadata": {},
   "outputs": [
    {
     "data": {
      "text/plain": [
       "[20, 360, 320, 40, 180]"
      ]
     },
     "execution_count": 9,
     "metadata": {},
     "output_type": "execute_result"
    }
   ],
   "source": [
    "x_test"
   ]
  },
  {
   "cell_type": "code",
   "execution_count": 10,
   "id": "97b58199",
   "metadata": {},
   "outputs": [
    {
     "data": {
      "text/plain": [
       "[10, 115, 105, 25, 55]"
      ]
     },
     "execution_count": 10,
     "metadata": {},
     "output_type": "execute_result"
    }
   ],
   "source": [
    "y_test"
   ]
  },
  {
   "cell_type": "code",
   "execution_count": 15,
   "id": "a4493f7f",
   "metadata": {},
   "outputs": [],
   "source": [
    "data = {\n",
    "    'x': [20, 40, 60, 80, 100, 120, 140, 160, 180, 200,\n",
    "              220, 240, 260, 280, 300, 320, 340, 360, 380, 400],\n",
    "    'y': [10, 25, 15, 40, 32, 50, 39, 65, 55, 75,\n",
    "             60, 85, 78, 95, 82, 105, 98, 115, 100, 125]\n",
    "}\n",
    "df = pd.DataFrame(data)\n",
    "x_train,x_test,y_train,y_test=train_test_split(x,y,test_size=.4,random_state=15)\n",
    "\n"
   ]
  },
  {
   "cell_type": "code",
   "execution_count": 17,
   "id": "a0bb115e",
   "metadata": {},
   "outputs": [
    {
     "data": {
      "text/plain": [
       "[280, 40, 140, 360, 300, 160, 240, 380, 20, 120, 260, 180]"
      ]
     },
     "execution_count": 17,
     "metadata": {},
     "output_type": "execute_result"
    }
   ],
   "source": [
    "x_train"
   ]
  },
  {
   "cell_type": "code",
   "execution_count": 18,
   "id": "d43a766d",
   "metadata": {},
   "outputs": [
    {
     "data": {
      "text/plain": [
       "[125, 105, 40, 75, 32, 15, 60, 98]"
      ]
     },
     "execution_count": 18,
     "metadata": {},
     "output_type": "execute_result"
    }
   ],
   "source": [
    "y_test"
   ]
  },
  {
   "cell_type": "code",
   "execution_count": 19,
   "id": "61cc57bc",
   "metadata": {},
   "outputs": [
    {
     "data": {
      "text/plain": [
       "[95, 25, 39, 115, 82, 65, 85, 100, 10, 50, 78, 55]"
      ]
     },
     "execution_count": 19,
     "metadata": {},
     "output_type": "execute_result"
    }
   ],
   "source": [
    "y_train"
   ]
  },
  {
   "cell_type": "code",
   "execution_count": 21,
   "id": "95f91b6d",
   "metadata": {},
   "outputs": [
    {
     "data": {
      "text/plain": [
       "[400, 320, 80, 200, 100, 60, 220, 340]"
      ]
     },
     "execution_count": 21,
     "metadata": {},
     "output_type": "execute_result"
    }
   ],
   "source": [
    "x_test"
   ]
  },
  {
   "cell_type": "code",
   "execution_count": null,
   "id": "ece7e1b2",
   "metadata": {},
   "outputs": [],
   "source": []
  }
 ],
 "metadata": {
  "kernelspec": {
   "display_name": "Python 3",
   "language": "python",
   "name": "python3"
  },
  "language_info": {
   "codemirror_mode": {
    "name": "ipython",
    "version": 3
   },
   "file_extension": ".py",
   "mimetype": "text/x-python",
   "name": "python",
   "nbconvert_exporter": "python",
   "pygments_lexer": "ipython3",
   "version": "3.12.7"
  }
 },
 "nbformat": 4,
 "nbformat_minor": 5
}
